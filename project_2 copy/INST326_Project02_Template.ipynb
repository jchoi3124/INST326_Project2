{
 "cells": [
  {
   "cell_type": "markdown",
   "id": "bc00dbc1",
   "metadata": {},
   "source": [
    "### Project 02: Create a GUI Notebook Program"
   ]
  },
  {
   "cell_type": "markdown",
   "id": "b3f87ffb",
   "metadata": {},
   "source": [
    "Joseph Choi March 31 2024"
   ]
  },
  {
   "cell_type": "markdown",
   "id": "62110c98",
   "metadata": {},
   "source": [
    "Project 2 will adapt the procedural code we have been working on in INST326_SimpleGUI_Note_Form_IO.ipynb to create an OOP version of the program using three classes.\n",
    "\n",
    "    A Notebook or MainWindow class\n",
    "    A Form or TopWindow class\n",
    "    A Note class\n",
    "\n",
    "The MainWindow class is a subclass of Tkinter’s tk.Tk class and thus inherits its attributes and methods, while allowing us to customize the new window objects to our needs. These new window objects will represent “notebooks” or collections of notes, and allow us to work with those notes. (I have named it MainWindow because this class definition could be used to create any kind of main window in Tkinter. We are using it to represent notebooks in this application, but you might use it for other purposes in onther applications.)\n"
   ]
  },
  {
   "cell_type": "markdown",
   "id": "67692272",
   "metadata": {},
   "source": [
    "The TopWindow class creates a new top window in Tkinter, which is essentially a form for entering the title, text, links, and tags for our note. When we submit the note, this “form” object has a method that creates the note’s metadata and a new Note object. That note object is appended to the list of all notes, which is an attribute of the notebook (MainWindow) class.\n",
    "The Note class creates note objects that contain the  title, text, links, tags, and metadata for each note.\n",
    "\n",
    "For Project 02 you will:  \n",
    "\n",
    "    1. Create one notebook or MainWindow object  \n",
    "    2. Create several (at least 3) ‘real’ notes for your final submission. By ‘real’ I mean actual notes about python that are useful to you. Print them in the cell at the bottom of the notebook.\n",
    "    3. Save those notes to a single .txt, .csv, or .json file (your choice of format).  \n",
    "    4. Retrieve those notes and \n",
    "    5. Display representations of them as either labels or buttons in the  main window (remember how we displayed cards in project 01). These representations are not whole notes. Rather, they are object representations of the notes.  \n",
    "    6. When they are clicked the whole note pops up in a new window - either the form window or a ‘read-only’ version of the form window.\n",
    "\n"
   ]
  },
  {
   "cell_type": "markdown",
   "id": "cd7630c0",
   "metadata": {},
   "source": [
    "#### Complete your code in the cell below"
   ]
  },
  {
   "cell_type": "markdown",
   "id": "50f0a965",
   "metadata": {},
   "source": [
    "The code cell below contains the imports you will need; the top level structure for the three classes to get you started; and the execution code at the bottom. "
   ]
  },
  {
   "cell_type": "code",
   "execution_count": 17,
   "id": "57954c28",
   "metadata": {},
   "outputs": [],
   "source": [
    "# imports\n",
    "import tkinter as tk\n",
    "from tkinter import filedialog, messagebox\n",
    "import datetime # one module for working with dates and times\n",
    "\n",
    "# The MainWindow class creates a custom GUI window based on the tkinter window (tk.Tk)\n",
    "# It has an __init__() method, and three additional methods (new_note(), open_notebook(), and save_notebook())\n",
    "# These methods correspond to new, open, and save buttons in the window.\n",
    "# The new_note method calls the NoteForm class to create a new note form top level window.\n",
    "\n",
    "class MainWindow(tk.Tk):\n",
    "    def __init__(self):  #initialize the main window\n",
    "        super().__init__() # initialize it as a tkinter window\n",
    "        \n",
    "        self.geometry(\"600x400\") # set the default window size\n",
    "        self.title('Notebook') #set the default window title\n",
    "        self.notes = []        \n",
    "\n",
    "        # add additionallines to the __init__() function\n",
    "\n",
    "        #create buttons\n",
    "        tk.Button(self, text = 'New Note', command = self.new_note).pack()\n",
    "        tk.Button(self, text = 'Open Notebook', command = self.open_notebook).pack()\n",
    "        tk.Button(self, text = 'Save Notebook', command = self.save_notebook).pack() \n",
    "        # loads any notebook \n",
    "        self.load_notebook() \n",
    "        \n",
    "        \n",
    "        \n",
    "    def new_note(self):\n",
    "        NoteForm(self) # creates new note window\n",
    "\n",
    "    def display_notes(self):   \n",
    "        for widget in self.winfo_children():\n",
    "            if isinstance(widget, tk.Button) and not widget.cget(\"text\").startswith((\"Open\", \"Save\", \"New\")):\n",
    "                widget.destroy()\n",
    "        #displays notes as button \n",
    "        for note in self.notes:\n",
    "            tk.Button(self, text = note['title'], command=lambda note = note: self.open_note(note)).pack() \n",
    "\n",
    "    def open_note(self, note):\n",
    "        NoteForm(self, note)  \n",
    "            \n",
    "\n",
    "    def open_notebook(self):\n",
    "        #opens a filedialog \n",
    "        filepath = filedialog.askopenfilename(filetypes= [(\"Text files\", \"*.txt\"), (\"All files\", \"*.*\")])\n",
    "        if filepath:\n",
    "            with open(filepath, 'r') as file:\n",
    "                #split the file content to separate notes and parse each note\n",
    "                empty_notes = file.read().split('---\\n')[1:]  \n",
    "                self.notes = [self.parse_note_text(note) for note in empty_notes]\n",
    "            self.display_notes()\n",
    "\n",
    "    def parse_note_text(self, note_text):\n",
    "        title, text, metadata = note_text.strip().split('|')\n",
    "        return{'title': title, 'text': text, 'metadata': metadata}\n",
    "\n",
    "    def save_notebook(self):\n",
    "        #open a file dialog to choose where to save the notebook\n",
    "        filepath = filedialog.asksaveasfile(mode='w', defaultextension=\".txt\", filetypes=[(\"Text files\", \"*.txt\"), (\"All files\", \"*.*\")])\n",
    "        if filepath:\n",
    "            for note in self.notes:\n",
    "                #write each note as a string separated by '---\\n'\n",
    "                filepath.write(f\"---\\n{note['title']}|{note['text']}|{note['metadata']}\\n\")\n",
    "            filepath.close()\n",
    "            messagebox.showinfo(\"Notebook has been saved.\")\n",
    "\n",
    "    def load_notebook(self):\n",
    "        #placeholder to automatically load a default notebook file if exists\n",
    "        pass\n",
    "    \n",
    "    def print_notes(self):\n",
    "        for note in self.notes:\n",
    "            print(f\"Title: {note['title']}\\nText: {note['text']}\\nMetadata{note['metadata']}\\n\")\n",
    "            \n",
    "        \n",
    "\n",
    "# the NoteForm() class creates a Toplevel window that is a note form containing fields for\n",
    "# data entry for title, text, link, and tags. It also calculates a meta field with date, time, and timezone\n",
    "# the Noteform class has an __init__() method, and a submit() method that is called by a submit button\n",
    "# the class may contain additional methods to perform tasks like calculating the metadata, for example\n",
    "# the submit method calls the MakeNote class that transforms the the entered data into a new note object.\n",
    "\n",
    "class NoteForm(tk.Toplevel):\n",
    "    \n",
    "    def __init__(self, master, note =None): # initialize the new object\n",
    "        super().__init__(master) # initialize it as a toplevel window\n",
    "\n",
    "        # add additonal lines to set the new window's attributes and default parameters\n",
    "        self.geometry(\"400x300\") \n",
    "        \n",
    "        self.title_entry = tk.Entry(self)\n",
    "        self.title_entry.pack()\n",
    "        self.text_entry = tk.Text(self, height = 10)\n",
    "        self.text_entry.pack()\n",
    "\n",
    "        #editing a previous note file\n",
    "        if note:\n",
    "            self.title_entry.insert(0, note['title'])\n",
    "            self.text_entry.insert('1.0', note['text'])\n",
    "\n",
    "        # create button\n",
    "        tk.Button(self, text = 'SUBMIT', command=lambda: self.submit(note)).pack()\n",
    "\n",
    "   \n",
    "    def submit(self, note):\n",
    "        # add lines to the submit method\n",
    "        title = self.title_entry.get() # gathers info and updates\n",
    "        text = self.text_entry.get('1.0', 'end').strip()\n",
    "        metadata = datetime.datetime.now().strftime(\"%Y-%m-%d %H:%M:%S\")\n",
    "\n",
    "        if note: \n",
    "            note_index = self.master.notes.index(note)\n",
    "            self.master.notes[note_index] = {'title': title, 'text': text, 'metadata': metadata}\n",
    "        else:\n",
    "            new_note = {'title': title, 'text': text, 'metadata': metadata}\n",
    "            self.master.notes.append(new_note)\n",
    "\n",
    "        self.master.display_notes() # displays\n",
    "        self.destroy() # closes window\n",
    "        \n",
    "\n",
    "    \n",
    "# The MakeNote class takes a dictionary containing the data entered into the form window,\n",
    "# and transforms it into a new note object.\n",
    "# At present the note objects have attributes but no methods.\n",
    "\n",
    "class MakeNote:\n",
    "    def __init__(self, note_dict):\n",
    "        self.title = note_dict['title']\n",
    "        self.text = note_dict['text']\n",
    "        self.metadata = note_dict['metadata'] \n",
    "        \n",
    "    \n",
    " \n",
    "\n",
    "# main execution\n",
    "\n",
    "if __name__ == '__main__':\n",
    "    \n",
    "    main_window = MainWindow() # this creates a notebook / main window called main_window. You may change the name if you want\n",
    "\n",
    "    main_window.mainloop()"
   ]
  },
  {
   "cell_type": "markdown",
   "id": "c50d5149",
   "metadata": {},
   "source": [
    "#### Print your three notes below"
   ]
  },
  {
   "cell_type": "code",
   "execution_count": 18,
   "id": "dd1811bf",
   "metadata": {},
   "outputs": [
    {
     "name": "stdout",
     "output_type": "stream",
     "text": [
      "---\n",
      "project_2note|1) try not to overcomplicate python. I try to think of it as simply as input output. This helps me simplify whatI want done and allows me to check off tasks that need to be done efficiently. \n",
      "\n",
      "2) study using visuals, whether it be from websites,    example codes from lecture, or even youtube videos.Theseexamples will help break down concepts and see them in action.\n",
      "\n",
      "3) write easy to read/understandable notes for urself.  This helps create markers for not only urself. But others, so that you understand where your thought process wasfor ur code.|2024-03-31 22:28:46\n",
      "\n"
     ]
    }
   ],
   "source": [
    "# print your notes here\n",
    "with open('project_2note.txt', 'r') as file: # opens file name, reads and prints below\n",
    "    notes = file.read()\n",
    "    print(notes) \n"
   ]
  }
 ],
 "metadata": {
  "kernelspec": {
   "display_name": "Python 3 (ipykernel)",
   "language": "python",
   "name": "python3"
  },
  "language_info": {
   "codemirror_mode": {
    "name": "ipython",
    "version": 3
   },
   "file_extension": ".py",
   "mimetype": "text/x-python",
   "name": "python",
   "nbconvert_exporter": "python",
   "pygments_lexer": "ipython3",
   "version": "3.11.4"
  }
 },
 "nbformat": 4,
 "nbformat_minor": 5
}
